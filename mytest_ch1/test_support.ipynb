{
 "cells": [
  {
   "cell_type": "code",
   "execution_count": 1,
   "metadata": {
    "pycharm": {
     "name": "#%%获取数据集\n"
    }
   },
   "outputs": [],
   "source": [
    "import numpy as np\n",
    "from collections import defaultdict\n",
    "dataset = 'dataset.txt'\n",
    "X = np.loadtxt(dataset)\n",
    "n_samples, n_features = X.shape\n",
    "features = [\"bread\", \"milk\", \"cheese\", \"apples\", \"bananas\"]"
   ]
  },
  {
   "cell_type": "code",
   "execution_count": 3,
   "outputs": [
    {
     "name": "stdout",
     "output_type": "stream",
     "text": [
      "59 \n",
      "Rule: If a person buys bread they will also buy bananas\n",
      " - Confidence: 0.630\n",
      " - Support: 17\n",
      "\n"
     ]
    }
   ],
   "source": [
    "num_apple_purchases = 0\n",
    "for sample in X:\n",
    "    if sample[4] == 1:\n",
    "        num_apple_purchases += 1\n",
    "print('{0} '.format(num_apple_purchases))\n",
    "#构造defaultdict字典，此字典键值为空是元素也存在例如为0/\"\"/[]/set()\n",
    "valid_rules = defaultdict(int)\n",
    "invalid_rules = defaultdict(int)\n",
    "num_occurances = defaultdict(int)\n",
    "\n",
    "for sample in X:\n",
    "    for premise in range(n_features):\n",
    "        if sample[premise]==0:\n",
    "            continue\n",
    "        num_occurances[premise] +=1\n",
    "        for conclusion in range(n_features):\n",
    "            if premise == conclusion:\n",
    "                continue\n",
    "            if sample[conclusion] == 1:\n",
    "                valid_rules[(premise,conclusion)] +=1\n",
    "            else:\n",
    "                invalid_rules[(premise,conclusion)] +=1\n",
    "support = valid_rules\n",
    "confidence = defaultdict(float)\n",
    "for premise ,conclusion in valid_rules.keys():\n",
    "    rule = (premise,conclusion)\n",
    "    confidence[(premise, conclusion)] = valid_rules[(premise, conclusion)] / num_occurances[premise]\n",
    "\n",
    "def print_rule(premise,conclusion,support,confidence,features):\n",
    "    premise_name = features[premise]\n",
    "    conclusion_name = features[conclusion]\n",
    "    print(\"Rule: If a person buys {0} they will also buy {1}\".format(premise_name, conclusion_name))\n",
    "    print(\" - Confidence: {0:.3f}\".format(confidence[(premise, conclusion)]))\n",
    "    print(\" - Support: {0}\".format(support[(premise, conclusion)]))\n",
    "    print(\"\")\n",
    "\n",
    "premise = 0\n",
    "conclusion = 4\n",
    "print_rule(premise, conclusion, support, confidence, features)"
   ],
   "metadata": {
    "collapsed": false,
    "pycharm": {
     "name": "#%%对数据集计算置信度和支持度\n"
    }
   }
  },
  {
   "cell_type": "code",
   "execution_count": 6,
   "outputs": [
    {
     "name": "stdout",
     "output_type": "stream",
     "text": [
      "rule #1\n",
      "Rule: If a person buys cheese they will also buy bananas\n",
      " - Confidence: 0.659\n",
      " - Support: 27\n",
      "\n",
      "rule #2\n",
      "Rule: If a person buys bananas they will also buy cheese\n",
      " - Confidence: 0.458\n",
      " - Support: 27\n",
      "\n",
      "rule #3\n",
      "Rule: If a person buys cheese they will also buy apples\n",
      " - Confidence: 0.610\n",
      " - Support: 25\n",
      "\n",
      "rule #4\n",
      "Rule: If a person buys apples they will also buy cheese\n",
      " - Confidence: 0.694\n",
      " - Support: 25\n",
      "\n",
      "rule #5\n",
      "Rule: If a person buys apples they will also buy bananas\n",
      " - Confidence: 0.583\n",
      " - Support: 21\n",
      "\n"
     ]
    }
   ],
   "source": [
    "from operator import itemgetter\n",
    "sorted_support = sorted(support.items(),key=itemgetter(1),reverse=True)\n",
    "\n",
    "for index in range(n_features):\n",
    "    print(\"rule #{0}\".format(index+1))\n",
    "    #前五个中的元组\n",
    "    premise,conclusion=sorted_support[index][0]\n",
    "    print_rule(premise,conclusion,support,confidence,features)\n",
    "\n"
   ],
   "metadata": {
    "collapsed": false,
    "pycharm": {
     "name": "#%%筛选出置信度和支持度最大的几组\n"
    }
   }
  },
  {
   "cell_type": "code",
   "execution_count": null,
   "metadata": {},
   "outputs": [],
   "source": []
  }
 ],
 "metadata": {
  "kernelspec": {
   "display_name": "Python 3",
   "language": "python",
   "name": "python3"
  },
  "language_info": {
   "codemirror_mode": {
    "name": "ipython",
    "version": 3
   },
   "file_extension": ".py",
   "mimetype": "text/x-python",
   "name": "python",
   "nbconvert_exporter": "python",
   "pygments_lexer": "ipython3",
   "version": "3.7.3"
  }
 },
 "nbformat": 4,
 "nbformat_minor": 1
}