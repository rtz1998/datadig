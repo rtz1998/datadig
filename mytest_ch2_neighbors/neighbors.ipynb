{
 "cells": [
  {
   "cell_type": "code",
   "execution_count": 1,
   "metadata": {
    "collapsed": true
   },
   "outputs": [],
   "source": [
    "import numpy as np\n",
    "import csv\n",
    "import os\n",
    "data_filename = 'ionosphere.data'"
   ]
  },
  {
   "cell_type": "code",
   "execution_count": 3,
   "outputs": [],
   "source": [
    "x = np.zeros((351,34), dtype='float')\n",
    "y = np.zeros((351,), dtype='bool')"
   ],
   "metadata": {
    "collapsed": false,
    "pycharm": {
     "name": "#%%\n"
    }
   }
  },
  {
   "cell_type": "code",
   "execution_count": 7,
   "outputs": [],
   "source": [
    "with open(data_filename,'r') as f:\n",
    "    reader = csv.reader(f)\n",
    "    for i, row in enumerate(reader):\n",
    "        data = [float(datum) for datum in row[:-1]]\n",
    "        x[i] = data\n",
    "        y[i] = row[-1]=='g'"
   ],
   "metadata": {
    "collapsed": false,
    "pycharm": {
     "name": "#%%读取数据\n"
    }
   }
  },
  {
   "cell_type": "code",
   "execution_count": 10,
   "outputs": [
    {
     "name": "stdout",
     "output_type": "stream",
     "text": [
      "86.4%\n"
     ]
    }
   ],
   "source": [
    "from sklearn.model_selection import  train_test_split\n",
    "X_train, X_test, y_train, y_test = train_test_split(x, y, random_state=14)\n",
    "from sklearn.neighbors import  KNeighborsClassifier\n",
    "estimator = KNeighborsClassifier()\n",
    "estimator.fit(X_train,y_train)\n",
    "y_predicted = estimator.predict(X_test)\n",
    "accuracy = np.mean(y_test == y_predicted)*100\n",
    "print(\"{0:.1f}%\".format(accuracy))\n"
   ],
   "metadata": {
    "collapsed": false,
    "pycharm": {
     "name": "#%%使用邻近算法\n"
    }
   }
  },
  {
   "cell_type": "code",
   "execution_count": 14,
   "outputs": [
    {
     "name": "stdout",
     "output_type": "stream",
     "text": [
      "82.6%\n"
     ]
    }
   ],
   "source": [
    "from sklearn.model_selection import cross_val_score\n",
    "score = cross_val_score(estimator, x, y, scoring='accuracy')\n",
    "avg_score = np.mean(score)*100\n",
    "print(\"{0:.1f}%\".format(avg_score))"
   ],
   "metadata": {
    "collapsed": false,
    "pycharm": {
     "name": "#%%交叉检验，多次切片，保证得到的训练集和测试集与上次不一样\n"
    }
   }
  },
  {
   "cell_type": "code",
   "execution_count": 22,
   "outputs": [
    {
     "data": {
      "text/plain": "[<matplotlib.lines.Line2D at 0x130011a20>]"
     },
     "execution_count": 22,
     "metadata": {},
     "output_type": "execute_result"
    },
    {
     "data": {
      "text/plain": "<Figure size 432x288 with 1 Axes>",
      "image/png": "[encoded data removed]"
     },
     "metadata": {
      "needs_background": "light"
     },
     "output_type": "display_data"
    }
   ],
   "source": [
    "avg_scores = []\n",
    "all_scores = []\n",
    "parameter_values = list(range(1, 21))\n",
    "for n_neighbors in parameter_values:\n",
    "    estimator = KNeighborsClassifier(n_neighbors=n_neighbors)\n",
    "    scores = cross_val_score(estimator, x, y, scoring='accuracy')\n",
    "    avg_scores.append(np.mean(scores))\n",
    "    all_scores.append(scores)\n",
    "from matplotlib import pyplot as plt\n",
    "plt.plot(parameter_values,avg_scores,'-o')\n",
    "\n",
    "\n"
   ],
   "metadata": {
    "collapsed": false,
    "pycharm": {
     "name": "#%%设置参数\n"
    }
   }
  },
  {
   "cell_type": "code",
   "execution_count": 23,
   "outputs": [
    {
     "name": "stdout",
     "output_type": "stream",
     "text": [
      "73.8\n"
     ]
    }
   ],
   "source": [
    "x_broken = np.array(x)\n",
    "x_broken[:,::2] /= 10\n",
    "estimator = KNeighborsClassifier()\n",
    "broken_scores = cross_val_score(estimator, x_broken, y ,scoring='accuracy')\n",
    "print(\"{0:.1f}\".format(np.mean(broken_scores)*100))\n",
    "\n"
   ],
   "metadata": {
    "collapsed": false,
    "pycharm": {
     "name": "#%%可以发现在对原始数据进行破坏，会对结果产生影响\n"
    }
   }
  },
  {
   "cell_type": "code",
   "execution_count": 24,
   "outputs": [
    {
     "name": "stdout",
     "output_type": "stream",
     "text": [
      "82.9\n"
     ]
    }
   ],
   "source": [
    "from sklearn.preprocessing import  MinMaxScaler\n",
    "x_transformed = MinMaxScaler().fit_transform(x_broken)\n",
    "estimator = KNeighborsClassifier()\n",
    "transformed_score = cross_val_score(estimator, x_transformed, y, scoring='accuracy')\n",
    "print(\"{0:.1f}\".format(np.mean(transformed_score)*100))\n",
    "\n"
   ],
   "metadata": {
    "collapsed": false,
    "pycharm": {
     "name": "#%%标准化预处理,将每个特征的值域规范化到0-1之间\n"
    }
   }
  },
  {
   "cell_type": "code",
   "execution_count": 25,
   "outputs": [
    {
     "name": "stdout",
     "output_type": "stream",
     "text": [
      "82.9\n"
     ]
    }
   ],
   "source": [
    "from sklearn.pipeline import Pipeline\n",
    "scaling_pipeline = Pipeline([('scale', MinMaxScaler()),('predict', KNeighborsClassifier())])\n",
    "scores = cross_val_score(scaling_pipeline, x_broken, y, scoring='accuracy')\n",
    "print(\"{0:.1f}\".format(np.mean(scores)*100))"
   ],
   "metadata": {
    "collapsed": false,
    "pycharm": {
     "name": "#%%加入流水线 Pipeline 的第一个预测scale表示范围，第二个predict表示预测的模型\n"
    }
   }
  }
 ],
 "metadata": {
  "kernelspec": {
   "display_name": "Python 3",
   "language": "python",
   "name": "python3"
  },
  "language_info": {
   "codemirror_mode": {
    "name": "ipython",
    "version": 2
   },
   "file_extension": ".py",
   "mimetype": "text/x-python",
   "name": "python",
   "nbconvert_exporter": "python",
   "pygments_lexer": "ipython2",
   "version": "2.7.6"
  }
 },
 "nbformat": 4,
 "nbformat_minor": 0
}