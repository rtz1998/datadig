{
 "cells": [
  {
   "cell_type": "code",
   "execution_count": 1,
   "metadata": {
    "collapsed": true
   },
   "outputs": [],
   "source": [
    "import numpy as np\n",
    "from sklearn.svm import  SVR\n",
    "import matplotlib.pyplot as plt\n",
    "X = np.sort(5*np.random.rand(40, 1), axis=0)\n",
    "#产生40组数，axis表示按列排列， 1表示按行排列\n",
    "y = np.sin(X).ravel()\n",
    "#rabel表示转化为行"
   ]
  },
  {
   "cell_type": "code",
   "execution_count": 2,
   "outputs": [],
   "source": [
    "svr_rbf = SVR(kernel='rbf', C=1e3, gamma=0.1)#高斯核\n",
    "svr_lin = SVR(kernel='linear', C=1e3)\n",
    "svr_poly = SVR(kernel='poly', C=1e3, degree=2)"
   ],
   "metadata": {
    "collapsed": false,
    "pycharm": {
     "name": "#%%\n"
    }
   }
  },
  {
   "cell_type": "code",
   "execution_count": 3,
   "outputs": [],
   "source": [
    "y_rbf = svr_rbf.fit(X, y).predict(X)\n",
    "y_lin = svr_lin.fit(X, y).predict(X)\n",
    "y_poly = svr_poly.fit(X, y).predict(X)"
   ],
   "metadata": {
    "collapsed": false,
    "pycharm": {
     "name": "#%%\n"
    }
   }
  },
  {
   "cell_type": "code",
   "execution_count": 4,
   "outputs": [
    {
     "data": {
      "text/plain": "<matplotlib.collections.PathCollection at 0x12cc0e198>"
     },
     "execution_count": 4,
     "metadata": {},
     "output_type": "execute_result"
    },
    {
     "data": {
      "text/plain": "<Figure size 432x288 with 1 Axes>",
      "image/png": "[encoded data removed]"
     },
     "metadata": {
      "needs_background": "light"
     },
     "output_type": "display_data"
    }
   ],
   "source": [
    "plt.plot(X, y_rbf,'r')\n",
    "plt.plot(X, y_lin,'b')\n",
    "plt.plot(X, y_poly, 'y')\n",
    "plt.scatter(X, y)"
   ],
   "metadata": {
    "collapsed": false,
    "pycharm": {
     "name": "#%%\n"
    }
   }
  },
  {
   "cell_type": "code",
   "execution_count": 7,
   "outputs": [
    {
     "name": "stdout",
     "output_type": "stream",
     "text": [
      "[[0.1127388 ]\n",
      " [0.12131038]\n",
      " [0.36135283]\n",
      " [0.42621635]\n",
      " [0.5227758 ]\n",
      " [0.70964656]\n",
      " [0.77355779]\n",
      " [0.86011972]\n",
      " [1.26229537]\n",
      " [1.58733367]\n",
      " [1.89257011]\n",
      " [2.1570474 ]\n",
      " [2.18226463]\n",
      " [2.30064911]\n",
      " [2.48797164]\n",
      " [2.5419288 ]\n",
      " [2.62219172]\n",
      " [2.62552327]\n",
      " [2.73690199]\n",
      " [2.76887617]\n",
      " [3.13108993]\n",
      " [3.17336952]\n",
      " [3.2692991 ]\n",
      " [3.29288102]\n",
      " [3.40826737]\n",
      " [3.41060369]\n",
      " [3.61658026]\n",
      " [3.67257434]\n",
      " [3.70160398]\n",
      " [3.70581298]\n",
      " [3.83952613]\n",
      " [3.87536468]\n",
      " [4.00060029]\n",
      " [4.02382722]\n",
      " [4.09092179]\n",
      " [4.18578718]\n",
      " [4.2911362 ]\n",
      " [4.64540214]\n",
      " [4.66894051]\n",
      " [4.68317506]\n",
      " [4.75035023]\n",
      " [4.79495139]\n",
      " [4.99571907]\n",
      " [5.22007289]\n",
      " [5.350638  ]\n",
      " [5.55357983]\n",
      " [5.66248847]\n",
      " [5.6680135 ]\n",
      " [5.78197656]\n",
      " [5.87171005]]\n"
     ]
    }
   ],
   "source": [
    "from sklearn.metrics import mean_squared_error, mean_absolute_error\n",
    "if __name__ == '__main__':\n",
    "    N = 50\n",
    "    np.random.seed(0)\n",
    "    x = np.sort(np.random.uniform(0, 6, N), axis=0)\n",
    "    y = 2*np.sin(x) + 0.1*np.random.randn(N)\n",
    "    x = x.reshape(-1 ,1)#任意行1列"
   ],
   "metadata": {
    "collapsed": false,
    "pycharm": {
     "name": "#%%时间曲线拟合\n"
    }
   }
  },
  {
   "cell_type": "code",
   "execution_count": 11,
   "outputs": [
    {
     "data": {
      "text/plain": "SVR(C=100, kernel='poly')"
     },
     "execution_count": 11,
     "metadata": {},
     "output_type": "execute_result"
    }
   ],
   "source": [
    "svr_rbf = SVR(kernel='rbf', gamma=0.4, C=100)\n",
    "svr_rbf.fit(x, y)\n",
    "svr_lin = SVR(kernel='linear', C=100)\n",
    "svr_lin.fit(x, y)\n",
    "svr_poly = SVR(kernel='poly', degree=3, C=100)\n",
    "svr_poly.fit(x, y)"
   ],
   "metadata": {
    "collapsed": false,
    "pycharm": {
     "name": "#%%\n"
    }
   }
  },
  {
   "cell_type": "code",
   "execution_count": 20,
   "outputs": [],
   "source": [
    "np.random.seed(0)\n",
    "x_test = np.sort(np.random.uniform(0, 6, N), axis=0)\n",
    "y_test = 2*np.sin(x) + 0.1*np.random.randn(N)\n",
    "x_test = x_test.reshape(-1, 1)"
   ],
   "metadata": {
    "collapsed": false,
    "pycharm": {
     "name": "#%%\n"
    }
   }
  },
  {
   "cell_type": "code",
   "execution_count": 27,
   "outputs": [
    {
     "data": {
      "text/plain": "[<matplotlib.lines.Line2D at 0x12fc6c550>,\n <matplotlib.lines.Line2D at 0x12fc6cac8>,\n <matplotlib.lines.Line2D at 0x12fc6c9b0>,\n <matplotlib.lines.Line2D at 0x12fc6c198>,\n <matplotlib.lines.Line2D at 0x12fc6c630>,\n <matplotlib.lines.Line2D at 0x12fc6cef0>,\n <matplotlib.lines.Line2D at 0x12fc6c400>,\n <matplotlib.lines.Line2D at 0x12fc6ca58>,\n <matplotlib.lines.Line2D at 0x12f974080>,\n <matplotlib.lines.Line2D at 0x12f974550>,\n <matplotlib.lines.Line2D at 0x12f882978>,\n <matplotlib.lines.Line2D at 0x12f882710>,\n <matplotlib.lines.Line2D at 0x12f882518>,\n <matplotlib.lines.Line2D at 0x12f882ef0>,\n <matplotlib.lines.Line2D at 0x12f882828>,\n <matplotlib.lines.Line2D at 0x12f88e4a8>,\n <matplotlib.lines.Line2D at 0x12fa815c0>,\n <matplotlib.lines.Line2D at 0x12fa81e10>,\n <matplotlib.lines.Line2D at 0x1301ffc18>,\n <matplotlib.lines.Line2D at 0x1301ffef0>,\n <matplotlib.lines.Line2D at 0x1301ffcf8>,\n <matplotlib.lines.Line2D at 0x1301ffe48>,\n <matplotlib.lines.Line2D at 0x1301ff048>,\n <matplotlib.lines.Line2D at 0x1301ff0b8>,\n <matplotlib.lines.Line2D at 0x1301ff7f0>,\n <matplotlib.lines.Line2D at 0x1301ff4a8>,\n <matplotlib.lines.Line2D at 0x1301ff2e8>,\n <matplotlib.lines.Line2D at 0x1301ffb38>,\n <matplotlib.lines.Line2D at 0x1301ff438>,\n <matplotlib.lines.Line2D at 0x1301ff710>,\n <matplotlib.lines.Line2D at 0x1301ffa58>,\n <matplotlib.lines.Line2D at 0x1301ff470>,\n <matplotlib.lines.Line2D at 0x1301ffe80>,\n <matplotlib.lines.Line2D at 0x1301ff208>,\n <matplotlib.lines.Line2D at 0x1301ff828>,\n <matplotlib.lines.Line2D at 0x1301ff860>,\n <matplotlib.lines.Line2D at 0x1301ff400>,\n <matplotlib.lines.Line2D at 0x12f8a1710>,\n <matplotlib.lines.Line2D at 0x12f8a1978>,\n <matplotlib.lines.Line2D at 0x12f8a1940>,\n <matplotlib.lines.Line2D at 0x12f8a1c88>,\n <matplotlib.lines.Line2D at 0x12f8a1c50>,\n <matplotlib.lines.Line2D at 0x12f8a1dd8>,\n <matplotlib.lines.Line2D at 0x12f8a1da0>,\n <matplotlib.lines.Line2D at 0x12f8a1e80>,\n <matplotlib.lines.Line2D at 0x12f8a1860>,\n <matplotlib.lines.Line2D at 0x12f8a1588>,\n <matplotlib.lines.Line2D at 0x12f8a1780>,\n <matplotlib.lines.Line2D at 0x12f8a1e48>,\n <matplotlib.lines.Line2D at 0x12f8a1898>]"
     },
     "execution_count": 27,
     "metadata": {},
     "output_type": "execute_result"
    },
    {
     "data": {
      "text/plain": "<Figure size 432x288 with 1 Axes>",
      "image/png": "[encoded data removed]"
     },
     "metadata": {
      "needs_background": "light"
     },
     "output_type": "display_data"
    }
   ],
   "source": [
    "y_rbf = svr_rbf.predict(x_test)\n",
    "y_lin = svr_lin.predict(x_test)\n",
    "y_poly = svr_poly.predict(x_test)\n",
    "plt.plot(x_test,y_rbf,'r')\n",
    "plt.plot(x_test,y_lin, 'b')\n",
    "plt.plot(x_test,y_poly,'y')\n",
    "plt.plot(x,y, 'ks', markersize=5)\n",
    "plt.plot(x_test, y_test, 'mo', markersize=6)"
   ],
   "metadata": {
    "collapsed": false,
    "pycharm": {
     "name": "#%%\n"
    }
   }
  }
 ],
 "metadata": {
  "kernelspec": {
   "display_name": "Python 3",
   "language": "python",
   "name": "python3"
  },
  "language_info": {
   "codemirror_mode": {
    "name": "ipython",
    "version": 2
   },
   "file_extension": ".py",
   "mimetype": "text/x-python",
   "name": "python",
   "nbconvert_exporter": "python",
   "pygments_lexer": "ipython2",
   "version": "2.7.6"
  }
 },
 "nbformat": 4,
 "nbformat_minor": 0
}