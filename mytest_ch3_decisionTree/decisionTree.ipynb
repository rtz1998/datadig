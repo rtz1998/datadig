{
 "cells": [
  {
   "cell_type": "code",
   "execution_count": 54,
   "metadata": {
    "collapsed": true
   },
   "outputs": [],
   "source": [
    "import pandas as pd\n",
    "dataset = pd.read_csv('data.csv')"
   ]
  },
  {
   "cell_type": "code",
   "execution_count": 58,
   "outputs": [],
   "source": [
    "dataset = pd.read_csv('data.csv', parse_dates=[\"Date\"])\n",
    "dataset.columns = [\"Date\", \"Start Date\", \"Visitor Team\", \"VisitorPts\", \"Home Team\", \"HomePts\", \"Box Score\", \"OT?\", \"Attend\", \"Notes\"]"
   ],
   "metadata": {
    "collapsed": false,
    "pycharm": {
     "name": "#%%\n"
    }
   }
  },
  {
   "cell_type": "code",
   "execution_count": 59,
   "outputs": [],
   "source": [
    "dataset[\"HomeWin\"] = dataset[\"VisitorPts\"] <dataset[\"HomePts\"]\n",
    "y_true = dataset[\"HomeWin\"].values"
   ],
   "metadata": {
    "collapsed": false,
    "pycharm": {
     "name": "#%%提取新特征\n"
    }
   }
  },
  {
   "cell_type": "code",
   "execution_count": 62,
   "outputs": [],
   "source": [
    "dataset[\"HomeLastWin\"] = False\n",
    "dataset[\"VisitorLastWin\"] = False\n",
    "from _collections import defaultdict\n",
    "won_last = defaultdict(int)\n",
    "for index, row in dataset.iterrows():\n",
    "    home_team = row[\"Home Team\"]\n",
    "    visitor_team = row[\"Visitor Team\"]\n",
    "    row[\"HomeLastWin\"] = won_last[home_team]\n",
    "    row[\"VisitorLastWin\"] = won_last[visitor_team]\n",
    "    dataset.loc[index] = row\n",
    "    won_last[home_team] = row[\"HomeWin\"]\n",
    "    won_last[visitor_team] = not row[\"HomeWin\"]"
   ],
   "metadata": {
    "collapsed": false,
    "pycharm": {
     "name": "#%%\n"
    }
   }
  },
  {
   "cell_type": "code",
   "execution_count": 63,
   "outputs": [
    {
     "name": "stdout",
     "output_type": "stream",
     "text": [
      "[[0 0]\n",
      " [0 0]\n",
      " [0 0]\n",
      " ...\n",
      " [False False]\n",
      " [True True]\n",
      " [True False]]\n",
      "60.3\n"
     ]
    }
   ],
   "source": [
    "from sklearn.tree import  DecisionTreeClassifier\n",
    "from sklearn.model_selection import cross_val_score\n",
    "import numpy as np\n",
    "clf = DecisionTreeClassifier(random_state=14)\n",
    "x_previouswins = dataset[[\"HomeLastWin\",\"VisitorLastWin\"]].values\n",
    "print(x_previouswins)\n",
    "score = cross_val_score(clf, x_previouswins, y_true, scoring='accuracy')\n",
    "print(\"{0:.1f}\".format(np.mean(score)*100))\n",
    "\n"
   ],
   "metadata": {
    "collapsed": false,
    "pycharm": {
     "name": "#%%使用决策树\n"
    }
   }
  },
  {
   "cell_type": "code",
   "execution_count": 74,
   "outputs": [],
   "source": [
    "last_match_winner = defaultdict(int)\n",
    "dataset[\"HomeTeamWonLast\"] = 0\n",
    "for index,row in dataset.iterrows():\n",
    "    home_team = row[\"Home Team\"]\n",
    "    visitor_team = row[\"Visitor Team\"]\n",
    "    teams = tuple(sorted([home_team,visitor_team]))\n",
    "    row[\"HomeTeamWonLast\"] = 1 if last_match_winner[teams] == row[\"Home Team\"] else 0\n",
    "    dataset.loc[index] = row\n",
    "    winner = row[\"Home Team\"] if row[\"HomeWin\"] else row[\"Visitor Team\"]\n",
    "    last_match_winner[teams] = winner"
   ],
   "metadata": {
    "collapsed": false,
    "pycharm": {
     "name": "#%%添加新的特征\n"
    }
   }
  },
  {
   "cell_type": "code",
   "execution_count": 79,
   "outputs": [
    {
     "name": "stdout",
     "output_type": "stream",
     "text": [
      "59.6\n"
     ]
    }
   ],
   "source": [
    "x_lastwinner = dataset[[\"HomeLastWin\",\"VisitorLastWin\",\"HomeTeamWonLast\"]].values\n",
    "clf = DecisionTreeClassifier(random_state=14)\n",
    "score = cross_val_score(clf, x_lastwinner, y_true, scoring=\"accuracy\")\n",
    "print(\"{0:.1f}\".format(np.mean(score)*100))\n",
    "\n"
   ],
   "metadata": {
    "collapsed": false,
    "pycharm": {
     "name": "#%%\n"
    }
   }
  },
  {
   "cell_type": "code",
   "execution_count": 80,
   "outputs": [],
   "source": [
    "from sklearn.preprocessing import LabelEncoder\n",
    "encoding = LabelEncoder()\n",
    "encoding.fit(dataset[\"Home Team\"].values)\n",
    "home_team = encoding.transform(dataset[\"Home Team\"].values)\n",
    "visitor_team = encoding.transform(dataset[\"Visitor Team\"].values)\n",
    "x_team = np.vstack([home_team,visitor_team]).T\n",
    "\n"
   ],
   "metadata": {
    "collapsed": false,
    "pycharm": {
     "name": "#%%预处理给队伍加上编码\n"
    }
   }
  },
  {
   "cell_type": "code",
   "execution_count": 81,
   "outputs": [
    {
     "name": "stdout",
     "output_type": "stream",
     "text": [
      "58.3\n"
     ]
    }
   ],
   "source": [
    "from sklearn.preprocessing import  OneHotEncoder\n",
    "onehot = OneHotEncoder()\n",
    "x_team_expanded = onehot.fit_transform(x_team).todense()\n",
    "clf = DecisionTreeClassifier(random_state=14)\n",
    "score = cross_val_score(clf, x_team_expanded, y_true, scoring='accuracy')\n",
    "print(\"{0:.1f}\".format(np.mean(score)*100))\n"
   ],
   "metadata": {
    "collapsed": false,
    "pycharm": {
     "name": "#%%\n"
    }
   }
  }
 ],
 "metadata": {
  "kernelspec": {
   "display_name": "Python 3",
   "language": "python",
   "name": "python3"
  },
  "language_info": {
   "codemirror_mode": {
    "name": "ipython",
    "version": 2
   },
   "file_extension": ".py",
   "mimetype": "text/x-python",
   "name": "python",
   "nbconvert_exporter": "python",
   "pygments_lexer": "ipython2",
   "version": "2.7.6"
  }
 },
 "nbformat": 4,
 "nbformat_minor": 0
}